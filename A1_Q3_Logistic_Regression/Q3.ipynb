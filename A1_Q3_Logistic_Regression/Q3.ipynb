{
 "cells": [
  {
   "cell_type": "markdown",
   "metadata": {},
   "source": [
    "###### Importing required libraries"
   ]
  },
  {
   "cell_type": "code",
   "execution_count": 1,
   "metadata": {},
   "outputs": [],
   "source": [
    "import matplotlib.pyplot as plt\n",
    "from mpl_toolkits.mplot3d import Axes3D \n",
    "import pandas as pd\n",
    "import numpy as np"
   ]
  },
  {
   "cell_type": "markdown",
   "metadata": {},
   "source": [
    "###### Reading from file"
   ]
  },
  {
   "cell_type": "code",
   "execution_count": 2,
   "metadata": {},
   "outputs": [],
   "source": [
    "df1 = pd.read_csv('/home/tkarthikeyan/IIT Delhi/COL774-Machine Learning/Assignment 1/ass1_data/data/q3/logisticX.csv', header=None)\n",
    "df2 = pd.read_csv('/home/tkarthikeyan/IIT Delhi/COL774-Machine Learning/Assignment 1/ass1_data/data/q3/logisticY.csv', header=None)"
   ]
  },
  {
   "cell_type": "markdown",
   "metadata": {},
   "source": [
    "###### Creating a dataframe"
   ]
  },
  {
   "cell_type": "code",
   "execution_count": 3,
   "metadata": {},
   "outputs": [
    {
     "name": "stdout",
     "output_type": "stream",
     "text": [
      "        X1      X2  Y\n",
      "0   3.8915  4.2105  0\n",
      "1   3.6898  6.6051  0\n",
      "2   2.7763  7.5057  0\n",
      "3   3.1137  5.7724  0\n",
      "4   2.9251  5.4315  0\n",
      "..     ...     ... ..\n",
      "95  5.7629  4.6161  1\n",
      "96  4.1817  4.0577  1\n",
      "97  6.3065  2.4776  1\n",
      "98  5.6043  3.3146  1\n",
      "99  7.0567  4.7346  1\n",
      "\n",
      "[100 rows x 3 columns]\n"
     ]
    }
   ],
   "source": [
    "frames = [df1, df2]\n",
    "df = pd.concat(frames, axis=1, ignore_index=True)\n",
    "df.rename(columns={0:\"X1\",1:\"X2\",2:\"Y\"},inplace=True)\n",
    "print(df)"
   ]
  },
  {
   "cell_type": "markdown",
   "metadata": {},
   "source": [
    "###### Describing the data"
   ]
  },
  {
   "cell_type": "code",
   "execution_count": 4,
   "metadata": {},
   "outputs": [
    {
     "data": {
      "text/html": [
       "<div>\n",
       "<style scoped>\n",
       "    .dataframe tbody tr th:only-of-type {\n",
       "        vertical-align: middle;\n",
       "    }\n",
       "\n",
       "    .dataframe tbody tr th {\n",
       "        vertical-align: top;\n",
       "    }\n",
       "\n",
       "    .dataframe thead th {\n",
       "        text-align: right;\n",
       "    }\n",
       "</style>\n",
       "<table border=\"1\" class=\"dataframe\">\n",
       "  <thead>\n",
       "    <tr style=\"text-align: right;\">\n",
       "      <th></th>\n",
       "      <th>X1</th>\n",
       "      <th>X2</th>\n",
       "      <th>Y</th>\n",
       "    </tr>\n",
       "  </thead>\n",
       "  <tbody>\n",
       "    <tr>\n",
       "      <th>count</th>\n",
       "      <td>100.000000</td>\n",
       "      <td>100.000000</td>\n",
       "      <td>100.000000</td>\n",
       "    </tr>\n",
       "    <tr>\n",
       "      <th>mean</th>\n",
       "      <td>4.618717</td>\n",
       "      <td>4.522868</td>\n",
       "      <td>0.500000</td>\n",
       "    </tr>\n",
       "    <tr>\n",
       "      <th>std</th>\n",
       "      <td>1.325572</td>\n",
       "      <td>1.394154</td>\n",
       "      <td>0.502519</td>\n",
       "    </tr>\n",
       "    <tr>\n",
       "      <th>min</th>\n",
       "      <td>1.440000</td>\n",
       "      <td>1.537200</td>\n",
       "      <td>0.000000</td>\n",
       "    </tr>\n",
       "    <tr>\n",
       "      <th>25%</th>\n",
       "      <td>3.706600</td>\n",
       "      <td>3.595875</td>\n",
       "      <td>0.000000</td>\n",
       "    </tr>\n",
       "    <tr>\n",
       "      <th>50%</th>\n",
       "      <td>4.523700</td>\n",
       "      <td>4.544700</td>\n",
       "      <td>0.500000</td>\n",
       "    </tr>\n",
       "    <tr>\n",
       "      <th>75%</th>\n",
       "      <td>5.539200</td>\n",
       "      <td>5.506450</td>\n",
       "      <td>1.000000</td>\n",
       "    </tr>\n",
       "    <tr>\n",
       "      <th>max</th>\n",
       "      <td>8.415300</td>\n",
       "      <td>7.505700</td>\n",
       "      <td>1.000000</td>\n",
       "    </tr>\n",
       "  </tbody>\n",
       "</table>\n",
       "</div>"
      ],
      "text/plain": [
       "               X1          X2           Y\n",
       "count  100.000000  100.000000  100.000000\n",
       "mean     4.618717    4.522868    0.500000\n",
       "std      1.325572    1.394154    0.502519\n",
       "min      1.440000    1.537200    0.000000\n",
       "25%      3.706600    3.595875    0.000000\n",
       "50%      4.523700    4.544700    0.500000\n",
       "75%      5.539200    5.506450    1.000000\n",
       "max      8.415300    7.505700    1.000000"
      ]
     },
     "execution_count": 4,
     "metadata": {},
     "output_type": "execute_result"
    }
   ],
   "source": [
    "df.describe()"
   ]
  },
  {
   "cell_type": "markdown",
   "metadata": {},
   "source": [
    "###### Normalizing the data"
   ]
  },
  {
   "cell_type": "code",
   "execution_count": 5,
   "metadata": {},
   "outputs": [
    {
     "data": {
      "text/html": [
       "<div>\n",
       "<style scoped>\n",
       "    .dataframe tbody tr th:only-of-type {\n",
       "        vertical-align: middle;\n",
       "    }\n",
       "\n",
       "    .dataframe tbody tr th {\n",
       "        vertical-align: top;\n",
       "    }\n",
       "\n",
       "    .dataframe thead th {\n",
       "        text-align: right;\n",
       "    }\n",
       "</style>\n",
       "<table border=\"1\" class=\"dataframe\">\n",
       "  <thead>\n",
       "    <tr style=\"text-align: right;\">\n",
       "      <th></th>\n",
       "      <th>X1</th>\n",
       "      <th>X2</th>\n",
       "      <th>Y</th>\n",
       "    </tr>\n",
       "  </thead>\n",
       "  <tbody>\n",
       "    <tr>\n",
       "      <th>0</th>\n",
       "      <td>-0.548606</td>\n",
       "      <td>-0.224056</td>\n",
       "      <td>0</td>\n",
       "    </tr>\n",
       "    <tr>\n",
       "      <th>1</th>\n",
       "      <td>-0.700767</td>\n",
       "      <td>1.493545</td>\n",
       "      <td>0</td>\n",
       "    </tr>\n",
       "    <tr>\n",
       "      <th>2</th>\n",
       "      <td>-1.389903</td>\n",
       "      <td>2.139528</td>\n",
       "      <td>0</td>\n",
       "    </tr>\n",
       "    <tr>\n",
       "      <th>3</th>\n",
       "      <td>-1.135372</td>\n",
       "      <td>0.896265</td>\n",
       "      <td>0</td>\n",
       "    </tr>\n",
       "    <tr>\n",
       "      <th>4</th>\n",
       "      <td>-1.277650</td>\n",
       "      <td>0.651744</td>\n",
       "      <td>0</td>\n",
       "    </tr>\n",
       "    <tr>\n",
       "      <th>...</th>\n",
       "      <td>...</td>\n",
       "      <td>...</td>\n",
       "      <td>...</td>\n",
       "    </tr>\n",
       "    <tr>\n",
       "      <th>95</th>\n",
       "      <td>0.863162</td>\n",
       "      <td>0.066874</td>\n",
       "      <td>1</td>\n",
       "    </tr>\n",
       "    <tr>\n",
       "      <th>96</th>\n",
       "      <td>-0.329682</td>\n",
       "      <td>-0.333656</td>\n",
       "      <td>1</td>\n",
       "    </tr>\n",
       "    <tr>\n",
       "      <th>97</th>\n",
       "      <td>1.273249</td>\n",
       "      <td>-1.467031</td>\n",
       "      <td>1</td>\n",
       "    </tr>\n",
       "    <tr>\n",
       "      <th>98</th>\n",
       "      <td>0.743515</td>\n",
       "      <td>-0.866667</td>\n",
       "      <td>1</td>\n",
       "    </tr>\n",
       "    <tr>\n",
       "      <th>99</th>\n",
       "      <td>1.839193</td>\n",
       "      <td>0.151871</td>\n",
       "      <td>1</td>\n",
       "    </tr>\n",
       "  </tbody>\n",
       "</table>\n",
       "<p>100 rows × 3 columns</p>\n",
       "</div>"
      ],
      "text/plain": [
       "          X1        X2  Y\n",
       "0  -0.548606 -0.224056  0\n",
       "1  -0.700767  1.493545  0\n",
       "2  -1.389903  2.139528  0\n",
       "3  -1.135372  0.896265  0\n",
       "4  -1.277650  0.651744  0\n",
       "..       ...       ... ..\n",
       "95  0.863162  0.066874  1\n",
       "96 -0.329682 -0.333656  1\n",
       "97  1.273249 -1.467031  1\n",
       "98  0.743515 -0.866667  1\n",
       "99  1.839193  0.151871  1\n",
       "\n",
       "[100 rows x 3 columns]"
      ]
     },
     "execution_count": 5,
     "metadata": {},
     "output_type": "execute_result"
    }
   ],
   "source": [
    "norm_df = df.copy()\n",
    "norm_df[\"X1\"] = (norm_df[\"X1\"] - norm_df[\"X1\"].mean())/norm_df[\"X1\"].std()\n",
    "norm_df[\"X2\"] = (norm_df[\"X2\"] - norm_df[\"X2\"].mean())/norm_df[\"X2\"].std()\n",
    "\n",
    "norm_df"
   ]
  },
  {
   "cell_type": "code",
   "execution_count": 6,
   "metadata": {},
   "outputs": [
    {
     "data": {
      "text/html": [
       "<div>\n",
       "<style scoped>\n",
       "    .dataframe tbody tr th:only-of-type {\n",
       "        vertical-align: middle;\n",
       "    }\n",
       "\n",
       "    .dataframe tbody tr th {\n",
       "        vertical-align: top;\n",
       "    }\n",
       "\n",
       "    .dataframe thead th {\n",
       "        text-align: right;\n",
       "    }\n",
       "</style>\n",
       "<table border=\"1\" class=\"dataframe\">\n",
       "  <thead>\n",
       "    <tr style=\"text-align: right;\">\n",
       "      <th></th>\n",
       "      <th>X1</th>\n",
       "      <th>X2</th>\n",
       "      <th>Y</th>\n",
       "    </tr>\n",
       "  </thead>\n",
       "  <tbody>\n",
       "    <tr>\n",
       "      <th>count</th>\n",
       "      <td>1.000000e+02</td>\n",
       "      <td>1.000000e+02</td>\n",
       "      <td>100.000000</td>\n",
       "    </tr>\n",
       "    <tr>\n",
       "      <th>mean</th>\n",
       "      <td>-1.532108e-16</td>\n",
       "      <td>6.827872e-17</td>\n",
       "      <td>0.500000</td>\n",
       "    </tr>\n",
       "    <tr>\n",
       "      <th>std</th>\n",
       "      <td>1.000000e+00</td>\n",
       "      <td>1.000000e+00</td>\n",
       "      <td>0.502519</td>\n",
       "    </tr>\n",
       "    <tr>\n",
       "      <th>min</th>\n",
       "      <td>-2.397996e+00</td>\n",
       "      <td>-2.141562e+00</td>\n",
       "      <td>0.000000</td>\n",
       "    </tr>\n",
       "    <tr>\n",
       "      <th>25%</th>\n",
       "      <td>-6.880931e-01</td>\n",
       "      <td>-6.649143e-01</td>\n",
       "      <td>0.000000</td>\n",
       "    </tr>\n",
       "    <tr>\n",
       "      <th>50%</th>\n",
       "      <td>-7.168000e-02</td>\n",
       "      <td>1.565967e-02</td>\n",
       "      <td>0.500000</td>\n",
       "    </tr>\n",
       "    <tr>\n",
       "      <th>75%</th>\n",
       "      <td>6.944043e-01</td>\n",
       "      <td>7.055045e-01</td>\n",
       "      <td>1.000000</td>\n",
       "    </tr>\n",
       "    <tr>\n",
       "      <th>max</th>\n",
       "      <td>2.864109e+00</td>\n",
       "      <td>2.139528e+00</td>\n",
       "      <td>1.000000</td>\n",
       "    </tr>\n",
       "  </tbody>\n",
       "</table>\n",
       "</div>"
      ],
      "text/plain": [
       "                 X1            X2           Y\n",
       "count  1.000000e+02  1.000000e+02  100.000000\n",
       "mean  -1.532108e-16  6.827872e-17    0.500000\n",
       "std    1.000000e+00  1.000000e+00    0.502519\n",
       "min   -2.397996e+00 -2.141562e+00    0.000000\n",
       "25%   -6.880931e-01 -6.649143e-01    0.000000\n",
       "50%   -7.168000e-02  1.565967e-02    0.500000\n",
       "75%    6.944043e-01  7.055045e-01    1.000000\n",
       "max    2.864109e+00  2.139528e+00    1.000000"
      ]
     },
     "execution_count": 6,
     "metadata": {},
     "output_type": "execute_result"
    }
   ],
   "source": [
    "norm_df.describe()"
   ]
  },
  {
   "cell_type": "markdown",
   "metadata": {},
   "source": [
    "###### Plotting the data with different colors"
   ]
  },
  {
   "cell_type": "code",
   "execution_count": 7,
   "metadata": {},
   "outputs": [
    {
     "data": {
      "image/png": "[encoded data removed]",
      "text/plain": [
       "<Figure size 432x288 with 1 Axes>"
      ]
     },
     "metadata": {
      "needs_background": "light"
     },
     "output_type": "display_data"
    }
   ],
   "source": [
    "class_0_x = []\n",
    "class_0_y = []\n",
    "class_1_x = []\n",
    "class_1_y = []\n",
    "\n",
    "for i in range(len(norm_df[\"X1\"])):\n",
    "    if norm_df[\"Y\"][i] == 0:\n",
    "        class_0_x.append(norm_df[\"X1\"][i])\n",
    "        class_0_y.append(norm_df[\"X2\"][i])\n",
    "    else:\n",
    "        class_1_x.append(norm_df[\"X1\"][i])\n",
    "        class_1_y.append(norm_df[\"X2\"][i])\n",
    "        \n",
    "plt.scatter(class_0_x,class_0_y,marker=\"^\",color=\"green\")\n",
    "plt.scatter(class_1_x,class_1_y,marker=\"*\",color=\"blue\")\n",
    "plt.xlabel(\"X1\")\n",
    "plt.ylabel(\"X2\")\n",
    "plt.legend([\"class 0\",\"class 1\"])\n",
    "plt.savefig(\"xy-plot.png\")\n",
    "plt.show()"
   ]
  },
  {
   "cell_type": "markdown",
   "metadata": {},
   "source": [
    "###### Newton's method"
   ]
  },
  {
   "cell_type": "code",
   "execution_count": 8,
   "metadata": {},
   "outputs": [
    {
     "name": "stdout",
     "output_type": "stream",
     "text": [
      "Size of training set:  100\n"
     ]
    }
   ],
   "source": [
    "# Initializing theta to zero\n",
    "theta = np.zeros((3,1))\n",
    "# theta = np.random.rand(3,1)\n",
    "m = norm_df[\"X1\"].count()\n",
    "\n",
    "print(\"Size of training set: \", m)"
   ]
  },
  {
   "cell_type": "markdown",
   "metadata": {},
   "source": [
    "###### Stopping criterion"
   ]
  },
  {
   "cell_type": "markdown",
   "metadata": {},
   "source": [
    "The stopping criterion is usually of the form $ \\| \\nabla_\\theta J_\\theta(x_i) \\|_2 $ <= $\\phi$, where $\\phi$ is small and\n",
    "positive."
   ]
  },
  {
   "cell_type": "code",
   "execution_count": 9,
   "metadata": {},
   "outputs": [],
   "source": [
    "def convergence(grad_J_theta):\n",
    "    phi = 0.0000000001\n",
    "    if np.linalg.norm(grad_J_theta) < phi:\n",
    "        return True\n",
    "    else:\n",
    "        return False"
   ]
  },
  {
   "cell_type": "markdown",
   "metadata": {},
   "source": [
    "###### Sigmoid function"
   ]
  },
  {
   "cell_type": "code",
   "execution_count": 10,
   "metadata": {},
   "outputs": [],
   "source": [
    "def sigmoid(x):\n",
    "    return 1.0 / (1.0 + np.exp(-x))"
   ]
  },
  {
   "cell_type": "markdown",
   "metadata": {},
   "source": [
    "###### Gradient vector"
   ]
  },
  {
   "cell_type": "code",
   "execution_count": 11,
   "metadata": {},
   "outputs": [],
   "source": [
    "# def get_gradient_vector(Y,H_theta,X,m):\n",
    "#     n = X.shape[1]\n",
    "#     G = np.zeros((n,1))\n",
    "    \n",
    "#     for i in range(n):\n",
    "#         X_i = np.array(X[:,i],ndmin=2)\n",
    "#         G_i = (H_theta - Y)*X_i.T\n",
    "#         G[i][0] = G_i.sum(axis=0)/m\n",
    "        \n",
    "#     return G"
   ]
  },
  {
   "cell_type": "code",
   "execution_count": 12,
   "metadata": {},
   "outputs": [],
   "source": [
    "def get_gradient_vector(X,Y,H_theta):\n",
    "    return np.matmul(X.T, H_theta - Y)"
   ]
  },
  {
   "cell_type": "markdown",
   "metadata": {},
   "source": [
    "###### Hessian matrix"
   ]
  },
  {
   "cell_type": "code",
   "execution_count": 13,
   "metadata": {},
   "outputs": [],
   "source": [
    "# def get_hessian_matrix(H_theta,X,m):\n",
    "#     n = X.shape[1]\n",
    "#     H = np.zeros((n,n))\n",
    "    \n",
    "#     for i in range(n):\n",
    "#         for j in range(i+1):\n",
    "#             X_i = np.array(X[:,i],ndmin=2)\n",
    "#             X_j = np.array(X[:,j],ndmin=2)\n",
    "#             H_ij = H_theta*(1 - H_theta)*X_i.T*X_j.T\n",
    "#             H[i][j] = H_ij.sum(axis=0)/m\n",
    "#             H[j][i] = H[i][j]\n",
    "    \n",
    "#     return H"
   ]
  },
  {
   "cell_type": "code",
   "execution_count": 14,
   "metadata": {},
   "outputs": [],
   "source": [
    "def get_hessian_matrix_closed_form(H_theta, X):\n",
    "    M = np.diag((H_theta*(1 - H_theta)).squeeze())\n",
    "    return np.matmul(np.matmul(X.T,M),X)"
   ]
  },
  {
   "cell_type": "markdown",
   "metadata": {},
   "source": [
    "###### Vector Notation"
   ]
  },
  {
   "cell_type": "code",
   "execution_count": 15,
   "metadata": {},
   "outputs": [
    {
     "name": "stdout",
     "output_type": "stream",
     "text": [
      "Shape of X is  (100, 3)\n"
     ]
    }
   ],
   "source": [
    "# X = np.hstack(np.array(train_df[\"X_1\"]), np.array(train_df[\"X_2\"]))\n",
    "a = np.array(norm_df[\"X1\"], ndmin=2)\n",
    "b = np.array(norm_df[\"X2\"], ndmin=2)\n",
    "c = np.ones((m,1))\n",
    "X = np.hstack((c,a.T,b.T))\n",
    "print(\"Shape of X is \",X.shape)\n",
    "# print(X)"
   ]
  },
  {
   "cell_type": "code",
   "execution_count": 16,
   "metadata": {},
   "outputs": [
    {
     "data": {
      "text/plain": [
       "(3, 100)"
      ]
     },
     "execution_count": 16,
     "metadata": {},
     "output_type": "execute_result"
    }
   ],
   "source": [
    "X.T.shape"
   ]
  },
  {
   "cell_type": "code",
   "execution_count": 17,
   "metadata": {},
   "outputs": [
    {
     "name": "stdout",
     "output_type": "stream",
     "text": [
      "Shape of Y is  (100, 1)\n"
     ]
    }
   ],
   "source": [
    "Y = np.array(norm_df[\"Y\"])\n",
    "Y.resize(m,1)\n",
    "print(\"Shape of Y is \",Y.shape)\n",
    "# print(Y)"
   ]
  },
  {
   "cell_type": "markdown",
   "metadata": {},
   "source": [
    "###### Algorithm"
   ]
  },
  {
   "cell_type": "code",
   "execution_count": 18,
   "metadata": {},
   "outputs": [
    {
     "name": "stdout",
     "output_type": "stream",
     "text": [
      "Loss: [0.69314718]\n",
      "Loss: [0.33427659]\n",
      "Loss: [0.25715466]\n",
      "Loss: [0.23313639]\n",
      "Loss: [0.22860969]\n",
      "Loss: [0.22834279]\n",
      "Loss: [0.22834145]\n",
      "Loss: [0.22834145]\n",
      "Loss: [0.22834145]\n"
     ]
    }
   ],
   "source": [
    "while(True):\n",
    "    H_theta = np.matmul(X,theta)\n",
    "    H_theta = sigmoid(H_theta)\n",
    "    \n",
    "    L_theta = (-1)*(Y*np.log(H_theta) + (1 - Y)*np.log(1 - H_theta))\n",
    "    L_theta = L_theta.sum(axis=0)/m\n",
    "\n",
    "    grad_L_theta = get_gradient_vector(X,Y,H_theta)\n",
    "    \n",
    "    H = get_hessian_matrix_closed_form(H_theta, X)\n",
    "    H_inv = np.linalg.inv(H)\n",
    "    \n",
    "    theta = theta - np.matmul(H_inv,grad_L_theta)\n",
    "    # theta = theta - (0.01)*grad_L_theta\n",
    "    \n",
    "    # print(\"Theta:\",theta)\n",
    "    print(\"Loss:\",L_theta)\n",
    "    \n",
    "    if convergence(grad_L_theta):\n",
    "        break"
   ]
  },
  {
   "cell_type": "markdown",
   "metadata": {},
   "source": [
    "###### Final set of parameters"
   ]
  },
  {
   "cell_type": "code",
   "execution_count": 19,
   "metadata": {},
   "outputs": [
    {
     "name": "stdout",
     "output_type": "stream",
     "text": [
      "Theta:  [[ 0.40125316]\n",
      " [ 2.60158832]\n",
      " [-2.7393195 ]]\n"
     ]
    }
   ],
   "source": [
    "print(\"Theta: \", theta)"
   ]
  },
  {
   "cell_type": "markdown",
   "metadata": {},
   "source": [
    "###### Plotting the data with different colors along with estimated separator line"
   ]
  },
  {
   "cell_type": "code",
   "execution_count": 20,
   "metadata": {},
   "outputs": [
    {
     "data": {
      "image/png": "[encoded data removed]",
      "text/plain": [
       "<Figure size 432x288 with 1 Axes>"
      ]
     },
     "metadata": {
      "needs_background": "light"
     },
     "output_type": "display_data"
    }
   ],
   "source": [
    "fig = plt.figure()\n",
    "plt.scatter(class_0_x,class_0_y,marker=\"^\",color=\"green\")\n",
    "plt.scatter(class_1_x,class_1_y,marker=\"*\",color=\"blue\")\n",
    "plt.xlabel(\"X1\")\n",
    "plt.ylabel(\"X2\")\n",
    "plt.axline((0,-theta[0][0]/theta[2][0]), slope=-theta[1][0]/theta[2][0], color=\"red\")\n",
    "plt.legend([\"class 0\",\"class 1\",\"decision boundary\"])\n",
    "plt.savefig(\"xy-plot-with-decision-boundary.png\")\n",
    "plt.show()"
   ]
  },
  {
   "cell_type": "code",
   "execution_count": 21,
   "metadata": {},
   "outputs": [
    {
     "name": "stdout",
     "output_type": "stream",
     "text": [
      "Final set of parameters:\n",
      "[[ 0.40125316]\n",
      " [ 2.60158832]\n",
      " [-2.7393195 ]]\n"
     ]
    }
   ],
   "source": [
    "print(\"Final set of parameters:\")\n",
    "print(theta)"
   ]
  },
  {
   "cell_type": "code",
   "execution_count": 22,
   "metadata": {},
   "outputs": [],
   "source": [
    "###### Number of misclassifications\n",
    "\n",
    "# arr = sigmoid(np.matmul(X,theta))\n",
    "\n",
    "# brr = np.zeros((100,1),dtype=\"int\")\n",
    "# for i in range(100):\n",
    "#     if arr[i][0] > 0.5:\n",
    "#         brr[i][0] = 1\n",
    "#     else:\n",
    "#         brr[i][0] = 0\n",
    "        \n",
    "# crr = Y - brr\n",
    "\n",
    "# incorrect = 0\n",
    "# for i in range(100):\n",
    "#     if crr[i][0] != 0:\n",
    "#         incorrect += 1\n",
    "        \n",
    "# print(\"Incorrect classifications: \",incorrect)\n",
    "# print(\"Total data: \",m)"
   ]
  }
 ],
 "metadata": {
  "kernelspec": {
   "display_name": "Python 3",
   "language": "python",
   "name": "python3"
  },
  "language_info": {
   "codemirror_mode": {
    "name": "ipython",
    "version": 3
   },
   "file_extension": ".py",
   "mimetype": "text/x-python",
   "name": "python",
   "nbconvert_exporter": "python",
   "pygments_lexer": "ipython3",
   "version": "3.8.10"
  }
 },
 "nbformat": 4,
 "nbformat_minor": 4
}
